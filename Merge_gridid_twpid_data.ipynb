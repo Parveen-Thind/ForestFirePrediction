{
 "cells": [
  {
   "cell_type": "code",
   "execution_count": 1,
   "id": "d0c15cbc-2a25-459e-98f2-e177fa2f7a48",
   "metadata": {},
   "outputs": [],
   "source": [
    "import pandas as pd\n",
    "import numpy as np\n",
    "import datetime\n",
    "from datetime import timedelta, date\n",
    "#import datetime\n",
    "from datetime import datetime\n",
    "import time"
   ]
  },
  {
   "cell_type": "markdown",
   "id": "9b53d7b4-a0bd-494f-81c4-0ff9d78f6186",
   "metadata": {},
   "source": [
    "### Read the Township metadata once "
   ]
  },
  {
   "cell_type": "code",
   "execution_count": 3,
   "id": "bafca473-4cc6-49e4-aa1a-c304bd20292c",
   "metadata": {},
   "outputs": [
    {
     "name": "stdout",
     "output_type": "stream",
     "text": [
      "           fid  InputID   TargetID     Distance\n",
      "0            1   682187  T022R14W4  4294.801479\n",
      "1            2   682188  T022R14W4  3884.842191\n",
      "2            3   682189  T022R14W4  3706.678318\n",
      "3            4   682190  T022R14W4  3793.114242\n",
      "4            5   682191  T022R14W4  4127.560216\n",
      "...        ...      ...        ...          ...\n",
      "664869  664870    21462  T077R13W6  3571.080156\n",
      "664870  664871    21463  T077R13W6  4481.194510\n",
      "664871  664872    21464  T076R13W6  4630.851849\n",
      "664872  664873    21465  T076R13W6  3658.926218\n",
      "664873  664874    21466  T076R13W6  2707.239380\n",
      "\n",
      "[664874 rows x 4 columns]\n",
      "<class 'pandas.core.frame.DataFrame'>\n",
      "RangeIndex: 664874 entries, 0 to 664873\n",
      "Data columns (total 4 columns):\n",
      " #   Column    Non-Null Count   Dtype  \n",
      "---  ------    --------------   -----  \n",
      " 0   fid       664874 non-null  int64  \n",
      " 1   InputID   664874 non-null  int64  \n",
      " 2   TargetID  664874 non-null  object \n",
      " 3   Distance  664874 non-null  float64\n",
      "dtypes: float64(1), int64(2), object(1)\n",
      "memory usage: 20.3+ MB\n",
      "None\n"
     ]
    }
   ],
   "source": [
    "csv_input = pd.read_csv(\"unique_centroid_township_metadata.csv\", encoding= 'unicode_escape', low_memory = False)\n",
    "print(csv_input)\n",
    "print(csv_input.info())"
   ]
  },
  {
   "cell_type": "code",
   "execution_count": 4,
   "id": "a55b1d80-386e-4258-ab2e-e97d42b00fb9",
   "metadata": {},
   "outputs": [
    {
     "data": {
      "text/plain": [
       "93"
      ]
     },
     "execution_count": 4,
     "metadata": {},
     "output_type": "execute_result"
    }
   ],
   "source": [
    "csv_input[csv_input.TargetID == 'T077R13W6'].shape[0]   # around 100 cells will have same value"
   ]
  },
  {
   "cell_type": "code",
   "execution_count": 5,
   "id": "2ab553a6-88ff-4d78-9ce6-580c8a9933ec",
   "metadata": {},
   "outputs": [
    {
     "data": {
      "text/html": [
       "<div>\n",
       "<style scoped>\n",
       "    .dataframe tbody tr th:only-of-type {\n",
       "        vertical-align: middle;\n",
       "    }\n",
       "\n",
       "    .dataframe tbody tr th {\n",
       "        vertical-align: top;\n",
       "    }\n",
       "\n",
       "    .dataframe thead th {\n",
       "        text-align: right;\n",
       "    }\n",
       "</style>\n",
       "<table border=\"1\" class=\"dataframe\">\n",
       "  <thead>\n",
       "    <tr style=\"text-align: right;\">\n",
       "      <th></th>\n",
       "      <th>twpid</th>\n",
       "      <th>Grid_id</th>\n",
       "    </tr>\n",
       "  </thead>\n",
       "  <tbody>\n",
       "    <tr>\n",
       "      <th>0</th>\n",
       "      <td>T022R14W4</td>\n",
       "      <td>682187</td>\n",
       "    </tr>\n",
       "    <tr>\n",
       "      <th>1</th>\n",
       "      <td>T022R14W4</td>\n",
       "      <td>682188</td>\n",
       "    </tr>\n",
       "    <tr>\n",
       "      <th>2</th>\n",
       "      <td>T022R14W4</td>\n",
       "      <td>682189</td>\n",
       "    </tr>\n",
       "    <tr>\n",
       "      <th>3</th>\n",
       "      <td>T022R14W4</td>\n",
       "      <td>682190</td>\n",
       "    </tr>\n",
       "    <tr>\n",
       "      <th>4</th>\n",
       "      <td>T022R14W4</td>\n",
       "      <td>682191</td>\n",
       "    </tr>\n",
       "    <tr>\n",
       "      <th>...</th>\n",
       "      <td>...</td>\n",
       "      <td>...</td>\n",
       "    </tr>\n",
       "    <tr>\n",
       "      <th>664869</th>\n",
       "      <td>T077R13W6</td>\n",
       "      <td>21462</td>\n",
       "    </tr>\n",
       "    <tr>\n",
       "      <th>664870</th>\n",
       "      <td>T077R13W6</td>\n",
       "      <td>21463</td>\n",
       "    </tr>\n",
       "    <tr>\n",
       "      <th>664871</th>\n",
       "      <td>T076R13W6</td>\n",
       "      <td>21464</td>\n",
       "    </tr>\n",
       "    <tr>\n",
       "      <th>664872</th>\n",
       "      <td>T076R13W6</td>\n",
       "      <td>21465</td>\n",
       "    </tr>\n",
       "    <tr>\n",
       "      <th>664873</th>\n",
       "      <td>T076R13W6</td>\n",
       "      <td>21466</td>\n",
       "    </tr>\n",
       "  </tbody>\n",
       "</table>\n",
       "<p>664874 rows × 2 columns</p>\n",
       "</div>"
      ],
      "text/plain": [
       "            twpid  Grid_id\n",
       "0       T022R14W4   682187\n",
       "1       T022R14W4   682188\n",
       "2       T022R14W4   682189\n",
       "3       T022R14W4   682190\n",
       "4       T022R14W4   682191\n",
       "...           ...      ...\n",
       "664869  T077R13W6    21462\n",
       "664870  T077R13W6    21463\n",
       "664871  T076R13W6    21464\n",
       "664872  T076R13W6    21465\n",
       "664873  T076R13W6    21466\n",
       "\n",
       "[664874 rows x 2 columns]"
      ]
     },
     "execution_count": 5,
     "metadata": {},
     "output_type": "execute_result"
    }
   ],
   "source": [
    "grid_cen  =  csv_input[['TargetID', 'InputID']].copy()\n",
    "grid_cen = grid_cen.rename( columns = {'InputID':'Grid_id', 'TargetID':'twpid' })\n",
    "grid_cen"
   ]
  },
  {
   "cell_type": "markdown",
   "id": "3fe40f2c-9e0d-42d9-b194-1bddcfd6ec57",
   "metadata": {},
   "source": [
    "# Read the Townships climate data for every year and merge the Grid ids"
   ]
  },
  {
   "cell_type": "code",
   "execution_count": 11,
   "id": "ef646b9e-a2be-4d52-925b-2ed03b521062",
   "metadata": {},
   "outputs": [
    {
     "name": "stdout",
     "output_type": "stream",
     "text": [
      "(1476600, 6)\n"
     ]
    }
   ],
   "source": [
    "# reading the Townships climate data for one year\n",
    "\n",
    "#********************* Change year here**************************#\n",
    "year = str(2018)\n",
    "acis_met_data = pd.read_csv('acis_met_'+str(year)+'.csv', encoding= 'unicode_escape')\n",
    "print(acis_met_data.shape)"
   ]
  },
  {
   "cell_type": "code",
   "execution_count": 12,
   "id": "6dd072e2-ec63-4064-9b8a-3e10a3775030",
   "metadata": {},
   "outputs": [
    {
     "name": "stdout",
     "output_type": "stream",
     "text": [
      "               twpid  Grid_id        date  Prcp  MaxT  RelHum     Ws\n",
      "0          T022R14W4   682187  2018-04-01  0.00 -9.68   81.47   7.06\n",
      "1          T022R14W4   682187  2018-04-02  0.00 -5.19   76.34   9.21\n",
      "2          T022R14W4   682187  2018-04-03  0.00 -5.57   82.82   9.38\n",
      "3          T022R14W4   682187  2018-04-04  0.10 -4.75   81.22  12.63\n",
      "4          T022R14W4   682187  2018-04-05  0.00 -7.69   73.13  16.13\n",
      "...              ...      ...         ...   ...   ...     ...    ...\n",
      "142283031  T061R20W5   257318  2018-10-27  0.00  7.36   55.80   3.78\n",
      "142283032  T061R20W5   257318  2018-10-28  0.00  2.40   77.66   3.42\n",
      "142283033  T061R20W5   257318  2018-10-29  8.05  5.22   92.80   0.93\n",
      "142283034  T061R20W5   257318  2018-10-30  0.00  8.52   67.34   2.34\n",
      "142283035  T061R20W5   257318  2018-10-31  0.58  3.98   77.93   1.83\n",
      "\n",
      "[142283036 rows x 7 columns]\n"
     ]
    }
   ],
   "source": [
    "merge_data = pd.merge(grid_cen,acis_met_data,  \n",
    "                      on = 'twpid',\n",
    "                      how = 'inner')\n",
    "\n",
    "print(merge_data)"
   ]
  },
  {
   "cell_type": "code",
   "execution_count": 8,
   "id": "5c79095b-319a-4b4b-86a4-1224f24f59dd",
   "metadata": {},
   "outputs": [
    {
     "name": "stdout",
     "output_type": "stream",
     "text": [
      "grid_cen num of Townships 6900\n",
      "grid_cen num of grid_ids 664874\n",
      "acis_met_data num of Townships 6900\n",
      "Merge data num of Townships 6900\n",
      "Merge data num of grid ids  664874\n"
     ]
    }
   ],
   "source": [
    "# count the number of Twpids and grid ids before merging the data\n",
    "print(\"grid_cen num of Townships\", grid_cen['twpid'].nunique())\n",
    "print(\"grid_cen num of grid_ids\", grid_cen['Grid_id'].nunique())\n",
    "\n",
    "print(\"acis_met_data num of Townships\", acis_met_data['twpid'].nunique())\n",
    "\n",
    "print(\"Merge data num of Townships\", merge_data['twpid'].nunique())\n",
    "print(\"Merge data num of grid ids \", merge_data['Grid_id'].nunique())"
   ]
  },
  {
   "cell_type": "code",
   "execution_count": 13,
   "id": "080f480a-61b9-4172-bd30-0ec48b417510",
   "metadata": {},
   "outputs": [
    {
     "data": {
      "text/html": [
       "<div>\n",
       "<style scoped>\n",
       "    .dataframe tbody tr th:only-of-type {\n",
       "        vertical-align: middle;\n",
       "    }\n",
       "\n",
       "    .dataframe tbody tr th {\n",
       "        vertical-align: top;\n",
       "    }\n",
       "\n",
       "    .dataframe thead th {\n",
       "        text-align: right;\n",
       "    }\n",
       "</style>\n",
       "<table border=\"1\" class=\"dataframe\">\n",
       "  <thead>\n",
       "    <tr style=\"text-align: right;\">\n",
       "      <th></th>\n",
       "      <th>Grid_id</th>\n",
       "      <th>date</th>\n",
       "      <th>Prcp</th>\n",
       "      <th>MaxT</th>\n",
       "      <th>RelHum</th>\n",
       "      <th>Ws</th>\n",
       "    </tr>\n",
       "  </thead>\n",
       "  <tbody>\n",
       "    <tr>\n",
       "      <th>0</th>\n",
       "      <td>682187</td>\n",
       "      <td>2018-04-01</td>\n",
       "      <td>0.00</td>\n",
       "      <td>-9.68</td>\n",
       "      <td>81.47</td>\n",
       "      <td>7.06</td>\n",
       "    </tr>\n",
       "    <tr>\n",
       "      <th>1</th>\n",
       "      <td>682187</td>\n",
       "      <td>2018-04-02</td>\n",
       "      <td>0.00</td>\n",
       "      <td>-5.19</td>\n",
       "      <td>76.34</td>\n",
       "      <td>9.21</td>\n",
       "    </tr>\n",
       "    <tr>\n",
       "      <th>2</th>\n",
       "      <td>682187</td>\n",
       "      <td>2018-04-03</td>\n",
       "      <td>0.00</td>\n",
       "      <td>-5.57</td>\n",
       "      <td>82.82</td>\n",
       "      <td>9.38</td>\n",
       "    </tr>\n",
       "    <tr>\n",
       "      <th>3</th>\n",
       "      <td>682187</td>\n",
       "      <td>2018-04-04</td>\n",
       "      <td>0.10</td>\n",
       "      <td>-4.75</td>\n",
       "      <td>81.22</td>\n",
       "      <td>12.63</td>\n",
       "    </tr>\n",
       "    <tr>\n",
       "      <th>4</th>\n",
       "      <td>682187</td>\n",
       "      <td>2018-04-05</td>\n",
       "      <td>0.00</td>\n",
       "      <td>-7.69</td>\n",
       "      <td>73.13</td>\n",
       "      <td>16.13</td>\n",
       "    </tr>\n",
       "    <tr>\n",
       "      <th>...</th>\n",
       "      <td>...</td>\n",
       "      <td>...</td>\n",
       "      <td>...</td>\n",
       "      <td>...</td>\n",
       "      <td>...</td>\n",
       "      <td>...</td>\n",
       "    </tr>\n",
       "    <tr>\n",
       "      <th>142283031</th>\n",
       "      <td>257318</td>\n",
       "      <td>2018-10-27</td>\n",
       "      <td>0.00</td>\n",
       "      <td>7.36</td>\n",
       "      <td>55.80</td>\n",
       "      <td>3.78</td>\n",
       "    </tr>\n",
       "    <tr>\n",
       "      <th>142283032</th>\n",
       "      <td>257318</td>\n",
       "      <td>2018-10-28</td>\n",
       "      <td>0.00</td>\n",
       "      <td>2.40</td>\n",
       "      <td>77.66</td>\n",
       "      <td>3.42</td>\n",
       "    </tr>\n",
       "    <tr>\n",
       "      <th>142283033</th>\n",
       "      <td>257318</td>\n",
       "      <td>2018-10-29</td>\n",
       "      <td>8.05</td>\n",
       "      <td>5.22</td>\n",
       "      <td>92.80</td>\n",
       "      <td>0.93</td>\n",
       "    </tr>\n",
       "    <tr>\n",
       "      <th>142283034</th>\n",
       "      <td>257318</td>\n",
       "      <td>2018-10-30</td>\n",
       "      <td>0.00</td>\n",
       "      <td>8.52</td>\n",
       "      <td>67.34</td>\n",
       "      <td>2.34</td>\n",
       "    </tr>\n",
       "    <tr>\n",
       "      <th>142283035</th>\n",
       "      <td>257318</td>\n",
       "      <td>2018-10-31</td>\n",
       "      <td>0.58</td>\n",
       "      <td>3.98</td>\n",
       "      <td>77.93</td>\n",
       "      <td>1.83</td>\n",
       "    </tr>\n",
       "  </tbody>\n",
       "</table>\n",
       "<p>142283036 rows × 6 columns</p>\n",
       "</div>"
      ],
      "text/plain": [
       "           Grid_id        date  Prcp  MaxT  RelHum     Ws\n",
       "0           682187  2018-04-01  0.00 -9.68   81.47   7.06\n",
       "1           682187  2018-04-02  0.00 -5.19   76.34   9.21\n",
       "2           682187  2018-04-03  0.00 -5.57   82.82   9.38\n",
       "3           682187  2018-04-04  0.10 -4.75   81.22  12.63\n",
       "4           682187  2018-04-05  0.00 -7.69   73.13  16.13\n",
       "...            ...         ...   ...   ...     ...    ...\n",
       "142283031   257318  2018-10-27  0.00  7.36   55.80   3.78\n",
       "142283032   257318  2018-10-28  0.00  2.40   77.66   3.42\n",
       "142283033   257318  2018-10-29  8.05  5.22   92.80   0.93\n",
       "142283034   257318  2018-10-30  0.00  8.52   67.34   2.34\n",
       "142283035   257318  2018-10-31  0.58  3.98   77.93   1.83\n",
       "\n",
       "[142283036 rows x 6 columns]"
      ]
     },
     "execution_count": 13,
     "metadata": {},
     "output_type": "execute_result"
    }
   ],
   "source": [
    "merge_data = merge_data.drop(columns = ['twpid'])\n",
    "merge_data"
   ]
  },
  {
   "cell_type": "code",
   "execution_count": 14,
   "id": "aa002958-815e-4ba4-8c65-7b06158ef923",
   "metadata": {},
   "outputs": [],
   "source": [
    "# Saving to output file\n",
    "merge_data.to_csv(\"met_\"+year+\"_output.csv\", index = False)"
   ]
  }
 ],
 "metadata": {
  "kernelspec": {
   "display_name": "Python 3 (ipykernel)",
   "language": "python",
   "name": "python3"
  },
  "language_info": {
   "codemirror_mode": {
    "name": "ipython",
    "version": 3
   },
   "file_extension": ".py",
   "mimetype": "text/x-python",
   "name": "python",
   "nbconvert_exporter": "python",
   "pygments_lexer": "ipython3",
   "version": "3.9.12"
  }
 },
 "nbformat": 4,
 "nbformat_minor": 5
}
