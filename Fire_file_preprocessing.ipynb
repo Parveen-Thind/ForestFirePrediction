{
 "cells": [
  {
   "cell_type": "code",
   "execution_count": 1,
   "id": "ea3494ce-4d82-4e9c-8fb0-579b05797a09",
   "metadata": {},
   "outputs": [],
   "source": [
    "import pandas as pd\n",
    "import numpy as np\n",
    "import datetime\n",
    "from datetime import timedelta, date\n",
    "\n",
    "from datetime import datetime"
   ]
  },
  {
   "cell_type": "code",
   "execution_count": 2,
   "id": "604a6b2a-ba5e-420e-86f0-f39be20e5fb2",
   "metadata": {},
   "outputs": [
    {
     "data": {
      "text/html": [
       "<div>\n",
       "<style scoped>\n",
       "    .dataframe tbody tr th:only-of-type {\n",
       "        vertical-align: middle;\n",
       "    }\n",
       "\n",
       "    .dataframe tbody tr th {\n",
       "        vertical-align: top;\n",
       "    }\n",
       "\n",
       "    .dataframe thead th {\n",
       "        text-align: right;\n",
       "    }\n",
       "</style>\n",
       "<table border=\"1\" class=\"dataframe\">\n",
       "  <thead>\n",
       "    <tr style=\"text-align: right;\">\n",
       "      <th></th>\n",
       "      <th>fire_number</th>\n",
       "      <th>fire_name</th>\n",
       "      <th>fire_year</th>\n",
       "      <th>calendar_year</th>\n",
       "      <th>assessment_datetime</th>\n",
       "      <th>assessment_hectares</th>\n",
       "      <th>current_size</th>\n",
       "      <th>size_class</th>\n",
       "      <th>fire_location_latitude</th>\n",
       "      <th>fire_location_longitude</th>\n",
       "      <th>...</th>\n",
       "      <th>fuel_type</th>\n",
       "      <th>other_fuel_type</th>\n",
       "      <th>bh_fs_date</th>\n",
       "      <th>bh_hectares</th>\n",
       "      <th>uc_fs_date</th>\n",
       "      <th>uc_hectares</th>\n",
       "      <th>to_fs_date</th>\n",
       "      <th>to_hectares</th>\n",
       "      <th>ex_fs_date</th>\n",
       "      <th>ex_hectares</th>\n",
       "    </tr>\n",
       "  </thead>\n",
       "  <tbody>\n",
       "    <tr>\n",
       "      <th>0</th>\n",
       "      <td>CWF001</td>\n",
       "      <td>NaN</td>\n",
       "      <td>2006</td>\n",
       "      <td>2006</td>\n",
       "      <td>2006-04-02 16:00</td>\n",
       "      <td>0.20</td>\n",
       "      <td>0.20</td>\n",
       "      <td>B</td>\n",
       "      <td>51.152933</td>\n",
       "      <td>-115.034600</td>\n",
       "      <td>...</td>\n",
       "      <td>O1b</td>\n",
       "      <td>NaN</td>\n",
       "      <td>2006-04-02 16:00</td>\n",
       "      <td>0.20</td>\n",
       "      <td>2006-04-02 16:00</td>\n",
       "      <td>0.20</td>\n",
       "      <td>NaN</td>\n",
       "      <td>NaN</td>\n",
       "      <td>2006-04-03 18:00</td>\n",
       "      <td>0.20</td>\n",
       "    </tr>\n",
       "    <tr>\n",
       "      <th>1</th>\n",
       "      <td>CWF002</td>\n",
       "      <td>NaN</td>\n",
       "      <td>2006</td>\n",
       "      <td>2006</td>\n",
       "      <td>2006-04-03 16:45</td>\n",
       "      <td>0.01</td>\n",
       "      <td>0.01</td>\n",
       "      <td>A</td>\n",
       "      <td>51.157633</td>\n",
       "      <td>-115.002133</td>\n",
       "      <td>...</td>\n",
       "      <td>O1b</td>\n",
       "      <td>NaN</td>\n",
       "      <td>2006-04-03 16:45</td>\n",
       "      <td>0.01</td>\n",
       "      <td>2006-04-03 16:45</td>\n",
       "      <td>0.01</td>\n",
       "      <td>NaN</td>\n",
       "      <td>NaN</td>\n",
       "      <td>2006-04-03 16:50</td>\n",
       "      <td>0.01</td>\n",
       "    </tr>\n",
       "    <tr>\n",
       "      <th>2</th>\n",
       "      <td>CWF003</td>\n",
       "      <td>NaN</td>\n",
       "      <td>2006</td>\n",
       "      <td>2006</td>\n",
       "      <td>2006-04-08 20:05</td>\n",
       "      <td>0.01</td>\n",
       "      <td>0.01</td>\n",
       "      <td>A</td>\n",
       "      <td>51.194400</td>\n",
       "      <td>-114.516167</td>\n",
       "      <td>...</td>\n",
       "      <td>NaN</td>\n",
       "      <td>Campfire</td>\n",
       "      <td>2006-04-08 20:05</td>\n",
       "      <td>0.01</td>\n",
       "      <td>2006-04-08 20:05</td>\n",
       "      <td>0.01</td>\n",
       "      <td>NaN</td>\n",
       "      <td>NaN</td>\n",
       "      <td>2006-04-09 20:30</td>\n",
       "      <td>0.01</td>\n",
       "    </tr>\n",
       "    <tr>\n",
       "      <th>3</th>\n",
       "      <td>CWF004</td>\n",
       "      <td>NaN</td>\n",
       "      <td>2006</td>\n",
       "      <td>2006</td>\n",
       "      <td>2006-04-13 18:20</td>\n",
       "      <td>0.75</td>\n",
       "      <td>0.75</td>\n",
       "      <td>B</td>\n",
       "      <td>51.125617</td>\n",
       "      <td>-114.841683</td>\n",
       "      <td>...</td>\n",
       "      <td>O1a</td>\n",
       "      <td>NaN</td>\n",
       "      <td>2006-04-13 18:20</td>\n",
       "      <td>0.75</td>\n",
       "      <td>2006-04-13 18:20</td>\n",
       "      <td>0.75</td>\n",
       "      <td>NaN</td>\n",
       "      <td>NaN</td>\n",
       "      <td>2006-04-13 20:00</td>\n",
       "      <td>0.75</td>\n",
       "    </tr>\n",
       "    <tr>\n",
       "      <th>4</th>\n",
       "      <td>CWF005</td>\n",
       "      <td>NaN</td>\n",
       "      <td>2006</td>\n",
       "      <td>2006</td>\n",
       "      <td>2006-04-14 17:25</td>\n",
       "      <td>0.01</td>\n",
       "      <td>0.01</td>\n",
       "      <td>A</td>\n",
       "      <td>50.409833</td>\n",
       "      <td>-114.478967</td>\n",
       "      <td>...</td>\n",
       "      <td>O1a</td>\n",
       "      <td>NaN</td>\n",
       "      <td>2006-04-14 17:25</td>\n",
       "      <td>0.01</td>\n",
       "      <td>2006-04-14 17:25</td>\n",
       "      <td>0.01</td>\n",
       "      <td>NaN</td>\n",
       "      <td>NaN</td>\n",
       "      <td>2006-04-14 17:40</td>\n",
       "      <td>0.01</td>\n",
       "    </tr>\n",
       "    <tr>\n",
       "      <th>...</th>\n",
       "      <td>...</td>\n",
       "      <td>...</td>\n",
       "      <td>...</td>\n",
       "      <td>...</td>\n",
       "      <td>...</td>\n",
       "      <td>...</td>\n",
       "      <td>...</td>\n",
       "      <td>...</td>\n",
       "      <td>...</td>\n",
       "      <td>...</td>\n",
       "      <td>...</td>\n",
       "      <td>...</td>\n",
       "      <td>...</td>\n",
       "      <td>...</td>\n",
       "      <td>...</td>\n",
       "      <td>...</td>\n",
       "      <td>...</td>\n",
       "      <td>...</td>\n",
       "      <td>...</td>\n",
       "      <td>...</td>\n",
       "      <td>...</td>\n",
       "    </tr>\n",
       "    <tr>\n",
       "      <th>19839</th>\n",
       "      <td>WWF051</td>\n",
       "      <td>NaN</td>\n",
       "      <td>2018</td>\n",
       "      <td>2018</td>\n",
       "      <td>2018-07-29 17:39</td>\n",
       "      <td>0.01</td>\n",
       "      <td>0.01</td>\n",
       "      <td>A</td>\n",
       "      <td>54.626783</td>\n",
       "      <td>-115.598067</td>\n",
       "      <td>...</td>\n",
       "      <td>C2</td>\n",
       "      <td>NaN</td>\n",
       "      <td>2018-07-29 18:40</td>\n",
       "      <td>0.01</td>\n",
       "      <td>2018-07-29 20:20</td>\n",
       "      <td>0.01</td>\n",
       "      <td>NaN</td>\n",
       "      <td>NaN</td>\n",
       "      <td>2018-07-29 20:53</td>\n",
       "      <td>0.01</td>\n",
       "    </tr>\n",
       "    <tr>\n",
       "      <th>19840</th>\n",
       "      <td>WWF052</td>\n",
       "      <td>NaN</td>\n",
       "      <td>2018</td>\n",
       "      <td>2018</td>\n",
       "      <td>2018-08-20 12:09</td>\n",
       "      <td>0.01</td>\n",
       "      <td>0.01</td>\n",
       "      <td>A</td>\n",
       "      <td>54.350250</td>\n",
       "      <td>-115.083683</td>\n",
       "      <td>...</td>\n",
       "      <td>NaN</td>\n",
       "      <td>Duff</td>\n",
       "      <td>2018-08-20 12:09</td>\n",
       "      <td>0.01</td>\n",
       "      <td>2018-08-20 14:05</td>\n",
       "      <td>0.01</td>\n",
       "      <td>2018-08-20 14:15</td>\n",
       "      <td>0.01</td>\n",
       "      <td>2018-08-21 14:09</td>\n",
       "      <td>0.01</td>\n",
       "    </tr>\n",
       "    <tr>\n",
       "      <th>19841</th>\n",
       "      <td>WWF053</td>\n",
       "      <td>NaN</td>\n",
       "      <td>2018</td>\n",
       "      <td>2018</td>\n",
       "      <td>2018-10-22 14:45</td>\n",
       "      <td>0.01</td>\n",
       "      <td>0.01</td>\n",
       "      <td>A</td>\n",
       "      <td>54.022550</td>\n",
       "      <td>-115.668667</td>\n",
       "      <td>...</td>\n",
       "      <td>D1</td>\n",
       "      <td>NaN</td>\n",
       "      <td>2018-10-22 14:45</td>\n",
       "      <td>0.01</td>\n",
       "      <td>2018-10-22 14:46</td>\n",
       "      <td>0.01</td>\n",
       "      <td>2018-10-22 15:30</td>\n",
       "      <td>0.01</td>\n",
       "      <td>2018-10-23 15:54</td>\n",
       "      <td>0.01</td>\n",
       "    </tr>\n",
       "    <tr>\n",
       "      <th>19842</th>\n",
       "      <td>WWF054</td>\n",
       "      <td>NaN</td>\n",
       "      <td>2018</td>\n",
       "      <td>2018</td>\n",
       "      <td>2018-10-23 15:45</td>\n",
       "      <td>0.01</td>\n",
       "      <td>0.01</td>\n",
       "      <td>A</td>\n",
       "      <td>54.023100</td>\n",
       "      <td>-115.669533</td>\n",
       "      <td>...</td>\n",
       "      <td>NaN</td>\n",
       "      <td>Abandoned Campfire</td>\n",
       "      <td>2018-10-23 15:45</td>\n",
       "      <td>0.01</td>\n",
       "      <td>2018-10-23 15:45</td>\n",
       "      <td>0.01</td>\n",
       "      <td>NaN</td>\n",
       "      <td>NaN</td>\n",
       "      <td>2018-10-23 16:00</td>\n",
       "      <td>0.01</td>\n",
       "    </tr>\n",
       "    <tr>\n",
       "      <th>19843</th>\n",
       "      <td>WWF055</td>\n",
       "      <td>NaN</td>\n",
       "      <td>2018</td>\n",
       "      <td>2018</td>\n",
       "      <td>2018-10-26 16:45</td>\n",
       "      <td>0.01</td>\n",
       "      <td>0.01</td>\n",
       "      <td>A</td>\n",
       "      <td>54.129350</td>\n",
       "      <td>-115.374983</td>\n",
       "      <td>...</td>\n",
       "      <td>M1</td>\n",
       "      <td>NaN</td>\n",
       "      <td>2018-10-26 16:45</td>\n",
       "      <td>0.01</td>\n",
       "      <td>2018-10-26 16:45</td>\n",
       "      <td>0.01</td>\n",
       "      <td>2018-10-26 16:45</td>\n",
       "      <td>0.01</td>\n",
       "      <td>2018-10-29 13:30</td>\n",
       "      <td>0.01</td>\n",
       "    </tr>\n",
       "  </tbody>\n",
       "</table>\n",
       "<p>19844 rows × 39 columns</p>\n",
       "</div>"
      ],
      "text/plain": [
       "      fire_number fire_name  fire_year  calendar_year assessment_datetime  \\\n",
       "0          CWF001       NaN       2006           2006    2006-04-02 16:00   \n",
       "1          CWF002       NaN       2006           2006    2006-04-03 16:45   \n",
       "2          CWF003       NaN       2006           2006    2006-04-08 20:05   \n",
       "3          CWF004       NaN       2006           2006    2006-04-13 18:20   \n",
       "4          CWF005       NaN       2006           2006    2006-04-14 17:25   \n",
       "...           ...       ...        ...            ...                 ...   \n",
       "19839      WWF051       NaN       2018           2018    2018-07-29 17:39   \n",
       "19840      WWF052       NaN       2018           2018    2018-08-20 12:09   \n",
       "19841      WWF053       NaN       2018           2018    2018-10-22 14:45   \n",
       "19842      WWF054       NaN       2018           2018    2018-10-23 15:45   \n",
       "19843      WWF055       NaN       2018           2018    2018-10-26 16:45   \n",
       "\n",
       "       assessment_hectares  current_size size_class  fire_location_latitude  \\\n",
       "0                     0.20          0.20          B               51.152933   \n",
       "1                     0.01          0.01          A               51.157633   \n",
       "2                     0.01          0.01          A               51.194400   \n",
       "3                     0.75          0.75          B               51.125617   \n",
       "4                     0.01          0.01          A               50.409833   \n",
       "...                    ...           ...        ...                     ...   \n",
       "19839                 0.01          0.01          A               54.626783   \n",
       "19840                 0.01          0.01          A               54.350250   \n",
       "19841                 0.01          0.01          A               54.022550   \n",
       "19842                 0.01          0.01          A               54.023100   \n",
       "19843                 0.01          0.01          A               54.129350   \n",
       "\n",
       "       fire_location_longitude  ... fuel_type     other_fuel_type  \\\n",
       "0                  -115.034600  ...       O1b                 NaN   \n",
       "1                  -115.002133  ...       O1b                 NaN   \n",
       "2                  -114.516167  ...       NaN            Campfire   \n",
       "3                  -114.841683  ...       O1a                 NaN   \n",
       "4                  -114.478967  ...       O1a                 NaN   \n",
       "...                        ...  ...       ...                 ...   \n",
       "19839              -115.598067  ...        C2                 NaN   \n",
       "19840              -115.083683  ...       NaN                Duff   \n",
       "19841              -115.668667  ...        D1                 NaN   \n",
       "19842              -115.669533  ...       NaN  Abandoned Campfire   \n",
       "19843              -115.374983  ...        M1                 NaN   \n",
       "\n",
       "             bh_fs_date bh_hectares        uc_fs_date uc_hectares  \\\n",
       "0      2006-04-02 16:00        0.20  2006-04-02 16:00        0.20   \n",
       "1      2006-04-03 16:45        0.01  2006-04-03 16:45        0.01   \n",
       "2      2006-04-08 20:05        0.01  2006-04-08 20:05        0.01   \n",
       "3      2006-04-13 18:20        0.75  2006-04-13 18:20        0.75   \n",
       "4      2006-04-14 17:25        0.01  2006-04-14 17:25        0.01   \n",
       "...                 ...         ...               ...         ...   \n",
       "19839  2018-07-29 18:40        0.01  2018-07-29 20:20        0.01   \n",
       "19840  2018-08-20 12:09        0.01  2018-08-20 14:05        0.01   \n",
       "19841  2018-10-22 14:45        0.01  2018-10-22 14:46        0.01   \n",
       "19842  2018-10-23 15:45        0.01  2018-10-23 15:45        0.01   \n",
       "19843  2018-10-26 16:45        0.01  2018-10-26 16:45        0.01   \n",
       "\n",
       "             to_fs_date to_hectares        ex_fs_date ex_hectares  \n",
       "0                   NaN         NaN  2006-04-03 18:00        0.20  \n",
       "1                   NaN         NaN  2006-04-03 16:50        0.01  \n",
       "2                   NaN         NaN  2006-04-09 20:30        0.01  \n",
       "3                   NaN         NaN  2006-04-13 20:00        0.75  \n",
       "4                   NaN         NaN  2006-04-14 17:40        0.01  \n",
       "...                 ...         ...               ...         ...  \n",
       "19839               NaN         NaN  2018-07-29 20:53        0.01  \n",
       "19840  2018-08-20 14:15        0.01  2018-08-21 14:09        0.01  \n",
       "19841  2018-10-22 15:30        0.01  2018-10-23 15:54        0.01  \n",
       "19842               NaN         NaN  2018-10-23 16:00        0.01  \n",
       "19843  2018-10-26 16:45        0.01  2018-10-29 13:30        0.01  \n",
       "\n",
       "[19844 rows x 39 columns]"
      ]
     },
     "execution_count": 2,
     "metadata": {},
     "output_type": "execute_result"
    }
   ],
   "source": [
    "csv_input = pd.read_csv(\"fires_2006to2018.csv\", encoding = 'unicode_escape')\n",
    "csv_input"
   ]
  },
  {
   "cell_type": "code",
   "execution_count": 8,
   "id": "b956a189-3aa7-4172-965d-9c9d832230b8",
   "metadata": {},
   "outputs": [
    {
     "data": {
      "text/plain": [
       "fire_year\n",
       "2006    1954\n",
       "2007    1349\n",
       "2008    1712\n",
       "2009    1710\n",
       "2010    1840\n",
       "2011    1218\n",
       "2012    1568\n",
       "2013    1226\n",
       "2014    1470\n",
       "2015    1898\n",
       "2016    1376\n",
       "2017    1244\n",
       "2018    1279\n",
       "Name: fire_year, dtype: int64"
      ]
     },
     "execution_count": 8,
     "metadata": {},
     "output_type": "execute_result"
    }
   ],
   "source": [
    "df = csv_input.groupby(['fire_year'])['fire_year'].count()\n",
    "\n",
    "\n",
    "df\n",
    "# csv_input = csv_input.dropna(subset=['general_cause_desc'])\n",
    "# csv_input[csv_input['general_cause_desc'].str.contains(\"Lightning\")][['general_cause_desc']]"
   ]
  },
  {
   "cell_type": "code",
   "execution_count": null,
   "id": "b7361a97-e24b-4fc8-a304-3265f1c0bacc",
   "metadata": {},
   "outputs": [],
   "source": [
    "#   for DOCUMENTATION\n",
    "csv_input = pd.read_csv(\"fires_2006to2018.csv\", encoding = 'unicode_escape')\n",
    "year = 2016\n",
    "# change year manually here\n",
    "output = csv_input.query('fire_year == 2016')[[ 'fire_start_date','assessment_datetime',\n",
    "                                               'fire_location_latitude', 'fire_location_longitude']]\n",
    "\n",
    "output.rename(columns={\"fire_location_latitude\":\"latitude\", \"fire_location_longitude\":\"longitude\",\n",
    "                       \"fire_start_date\": \"date\", 'assessment_datetime':\"assessment_datetime\"}, inplace=True)\n",
    "\n",
    "#for the files from 2000 to 2005 the date column was stores as string, so converted to datetime format\n",
    "output['date'] = pd.to_datetime(output['date'], format='%Y-%m-%d')\n",
    "output.to_csv('fires_'+str(year)+'_n.csv', index = False, date_format='%Y-%m-%d')\n"
   ]
  },
  {
   "cell_type": "code",
   "execution_count": 4,
   "id": "e3462f1a-a402-4093-aed2-2210c7523664",
   "metadata": {},
   "outputs": [],
   "source": [
    "year = 2016"
   ]
  },
  {
   "cell_type": "code",
   "execution_count": 5,
   "id": "22d2d67c-f89c-483a-8deb-5c2ea4e96b77",
   "metadata": {},
   "outputs": [
    {
     "name": "stdout",
     "output_type": "stream",
     "text": [
      "                     date assessment_datetime   latitude   longitude\n",
      "18565 2018-04-14 15:00:00    2018-04-14 17:10  49.573420 -114.363340\n",
      "18566 2018-04-14 15:00:00    2018-04-14 17:25  49.573420 -114.363340\n",
      "18567 2018-04-24 13:00:00    2018-04-24 14:10  51.183467 -114.525467\n",
      "18568 2018-04-22 12:00:00    2018-04-26 15:25  49.690832 -113.964052\n",
      "18569 2018-04-28 12:15:00    2018-04-28 13:54  51.615800 -115.389017\n",
      "...                   ...                 ...        ...         ...\n",
      "19839 2018-07-29 16:58:00    2018-07-29 17:39  54.626783 -115.598067\n",
      "19840 2018-08-09 12:00:00    2018-08-20 12:09  54.350250 -115.083683\n",
      "19841 2018-10-22 09:00:00    2018-10-22 14:45  54.022550 -115.668667\n",
      "19842                 NaT    2018-10-23 15:45  54.023100 -115.669533\n",
      "19843 2018-10-26 09:00:00    2018-10-26 16:45  54.129350 -115.374983\n",
      "\n",
      "[1279 rows x 4 columns]\n",
      "date                   datetime64[ns]\n",
      "assessment_datetime            object\n",
      "latitude                      float64\n",
      "longitude                     float64\n",
      "dtype: object\n"
     ]
    },
    {
     "data": {
      "text/html": [
       "<div>\n",
       "<style scoped>\n",
       "    .dataframe tbody tr th:only-of-type {\n",
       "        vertical-align: middle;\n",
       "    }\n",
       "\n",
       "    .dataframe tbody tr th {\n",
       "        vertical-align: top;\n",
       "    }\n",
       "\n",
       "    .dataframe thead th {\n",
       "        text-align: right;\n",
       "    }\n",
       "</style>\n",
       "<table border=\"1\" class=\"dataframe\">\n",
       "  <thead>\n",
       "    <tr style=\"text-align: right;\">\n",
       "      <th></th>\n",
       "      <th>date</th>\n",
       "      <th>assessment_datetime</th>\n",
       "      <th>latitude</th>\n",
       "      <th>longitude</th>\n",
       "    </tr>\n",
       "  </thead>\n",
       "  <tbody>\n",
       "    <tr>\n",
       "      <th>18565</th>\n",
       "      <td>2018-04-14 15:00:00</td>\n",
       "      <td>2018-04-14 17:10</td>\n",
       "      <td>49.573420</td>\n",
       "      <td>-114.363340</td>\n",
       "    </tr>\n",
       "    <tr>\n",
       "      <th>18566</th>\n",
       "      <td>2018-04-14 15:00:00</td>\n",
       "      <td>2018-04-14 17:25</td>\n",
       "      <td>49.573420</td>\n",
       "      <td>-114.363340</td>\n",
       "    </tr>\n",
       "    <tr>\n",
       "      <th>18567</th>\n",
       "      <td>2018-04-24 13:00:00</td>\n",
       "      <td>2018-04-24 14:10</td>\n",
       "      <td>51.183467</td>\n",
       "      <td>-114.525467</td>\n",
       "    </tr>\n",
       "    <tr>\n",
       "      <th>18568</th>\n",
       "      <td>2018-04-22 12:00:00</td>\n",
       "      <td>2018-04-26 15:25</td>\n",
       "      <td>49.690832</td>\n",
       "      <td>-113.964052</td>\n",
       "    </tr>\n",
       "    <tr>\n",
       "      <th>18569</th>\n",
       "      <td>2018-04-28 12:15:00</td>\n",
       "      <td>2018-04-28 13:54</td>\n",
       "      <td>51.615800</td>\n",
       "      <td>-115.389017</td>\n",
       "    </tr>\n",
       "  </tbody>\n",
       "</table>\n",
       "</div>"
      ],
      "text/plain": [
       "                     date assessment_datetime   latitude   longitude\n",
       "18565 2018-04-14 15:00:00    2018-04-14 17:10  49.573420 -114.363340\n",
       "18566 2018-04-14 15:00:00    2018-04-14 17:25  49.573420 -114.363340\n",
       "18567 2018-04-24 13:00:00    2018-04-24 14:10  51.183467 -114.525467\n",
       "18568 2018-04-22 12:00:00    2018-04-26 15:25  49.690832 -113.964052\n",
       "18569 2018-04-28 12:15:00    2018-04-28 13:54  51.615800 -115.389017"
      ]
     },
     "execution_count": 5,
     "metadata": {},
     "output_type": "execute_result"
    }
   ],
   "source": [
    "# ************************CHANGE YEAR MANUALLY HERE *******************************\n",
    "output = csv_input.query('fire_year == 2018')[[ 'fire_start_date','assessment_datetime', 'fire_location_latitude', 'fire_location_longitude']]\n",
    "output.rename(columns={\"fire_location_latitude\":\"latitude\", \"fire_location_longitude\":\"longitude\", \"fire_start_date\": \"date\", 'assessment_datetime':\"assessment_datetime\"}, inplace=True)\n",
    "\n",
    "# ******************* for the files from 2000 to 2005 the date column was stores as string, so it was neccessary to convert that to datetime format********************#\n",
    "#****************** This step can be avoided for other years, as the variable is already in datetime format**************************#\n",
    "output['date'] = pd.to_datetime(output['date'], format='%Y-%m-%d')\n",
    "\n",
    "print (output)\n",
    "print (output.dtypes)\n",
    "\n",
    "#output.to_csv('fires_'+str(year)+'_n.csv', index = False, date_format='%Y-%m-%d')\n",
    "output.head()"
   ]
  },
  {
   "cell_type": "code",
   "execution_count": 87,
   "id": "0b2c81d0-0f4e-42d7-ba41-1a306f7f12c2",
   "metadata": {},
   "outputs": [
    {
     "name": "stdout",
     "output_type": "stream",
     "text": [
      "<class 'pandas.core.frame.DataFrame'>\n",
      "RangeIndex: 11352 entries, 0 to 11351\n",
      "Data columns (total 39 columns):\n",
      " #   Column                        Non-Null Count  Dtype  \n",
      "---  ------                        --------------  -----  \n",
      " 0   fire_number                   11352 non-null  object \n",
      " 1   fire_name                     124 non-null    object \n",
      " 2   fire_year                     11352 non-null  int64  \n",
      " 3   calendar_year                 11352 non-null  int64  \n",
      " 4   assessment_datetime           11352 non-null  object \n",
      " 5   assessment_hectares           11351 non-null  float64\n",
      " 6   current_size                  11351 non-null  float64\n",
      " 7   size_class                    11352 non-null  object \n",
      " 8   fire_location_latitude        11352 non-null  float64\n",
      " 9   fire_location_longitude       11352 non-null  float64\n",
      " 10  fire_origin                   11352 non-null  object \n",
      " 11  general_cause_desc            11352 non-null  object \n",
      " 12  industry_identifier_desc      638 non-null    object \n",
      " 13  responsible_group_desc        4867 non-null   object \n",
      " 14  activity_class                5094 non-null   object \n",
      " 15  true_cause                    5095 non-null   object \n",
      " 16  permit_detail_desc            0 non-null      float64\n",
      " 17  fire_start_date               11348 non-null  object \n",
      " 18  det_agent_type                11351 non-null  object \n",
      " 19  det_agent                     11351 non-null  object \n",
      " 20  discovered_date               11319 non-null  object \n",
      " 21  reported_date                 11351 non-null  object \n",
      " 22  start_for_fire_date           9692 non-null   object \n",
      " 23  fire_fighting_start_date      9659 non-null   object \n",
      " 24  fire_fighting_start_size      9677 non-null   float64\n",
      " 25  initial_action_by             11351 non-null  object \n",
      " 26  fire_type                     11352 non-null  object \n",
      " 27  fire_position_on_slope        11341 non-null  object \n",
      " 28  weather_conditions_over_fire  11349 non-null  object \n",
      " 29  fuel_type                     10518 non-null  object \n",
      " 30  other_fuel_type               2449 non-null   object \n",
      " 31  bh_fs_date                    11348 non-null  object \n",
      " 32  bh_hectares                   11348 non-null  float64\n",
      " 33  uc_fs_date                    11347 non-null  object \n",
      " 34  uc_hectares                   11347 non-null  float64\n",
      " 35  to_fs_date                    1022 non-null   object \n",
      " 36  to_hectares                   1022 non-null   float64\n",
      " 37  ex_fs_date                    11351 non-null  object \n",
      " 38  ex_hectares                   11351 non-null  float64\n",
      "dtypes: float64(10), int64(2), object(27)\n",
      "memory usage: 3.4+ MB\n",
      "None\n"
     ]
    }
   ],
   "source": [
    "print(csv_input.info())"
   ]
  },
  {
   "cell_type": "code",
   "execution_count": 88,
   "id": "d2dcd0f8-0d71-4fd1-bb27-fe7d48839609",
   "metadata": {},
   "outputs": [],
   "source": [
    "csv_input['fire_start_date'] = pd.to_datetime(csv_input['fire_start_date'])\n",
    "csv_input['assessment_datetime'] = pd.to_datetime(csv_input['assessment_datetime'])\n",
    "csv_input['fire_start_date'] = csv_input['fire_start_date'].dt.date\n",
    "csv_input['assessment_datetime'] = csv_input['assessment_datetime'].dt.date"
   ]
  },
  {
   "cell_type": "code",
   "execution_count": 89,
   "id": "64b3e75c-b31d-4320-ae60-343475e3f948",
   "metadata": {},
   "outputs": [
    {
     "data": {
      "text/plain": [
       "False"
      ]
     },
     "execution_count": 89,
     "metadata": {},
     "output_type": "execute_result"
    }
   ],
   "source": [
    "csv_input['assessment_datetime'].equals(csv_input['fire_start_date'])"
   ]
  },
  {
   "cell_type": "code",
   "execution_count": 90,
   "id": "e08d6ca2-fecf-492c-91fe-6a9a26b5947d",
   "metadata": {},
   "outputs": [
    {
     "data": {
      "text/plain": [
       "3461"
      ]
     },
     "execution_count": 90,
     "metadata": {},
     "output_type": "execute_result"
    }
   ],
   "source": [
    "np.count_nonzero(csv_input.assessment_datetime != csv_input.fire_start_date)"
   ]
  },
  {
   "cell_type": "code",
   "execution_count": 26,
   "id": "2226aa99-e344-4608-9e7d-da42f700614a",
   "metadata": {},
   "outputs": [
    {
     "data": {
      "text/plain": [
       "(array([   13,    34,    40, ..., 19837, 19840, 19842], dtype=int64),)"
      ]
     },
     "execution_count": 26,
     "metadata": {},
     "output_type": "execute_result"
    }
   ],
   "source": [
    "i = np.where(csv_input.assessment_datetime != csv_input.fire_start_date)\n",
    "i"
   ]
  },
  {
   "cell_type": "code",
   "execution_count": 38,
   "id": "1cbf7dac-ec10-415e-a5fb-96ac72c0238d",
   "metadata": {},
   "outputs": [
    {
     "data": {
      "text/plain": [
       "fire_number                     19844\n",
       "fire_name                         513\n",
       "fire_year                       19844\n",
       "calendar_year                   19844\n",
       "assessment_datetime             19844\n",
       "assessment_hectares             19844\n",
       "current_size                    19844\n",
       "size_class                      19844\n",
       "fire_location_latitude          19844\n",
       "fire_location_longitude         19844\n",
       "fire_origin                     19834\n",
       "general_cause_desc              19844\n",
       "industry_identifier_desc          340\n",
       "responsible_group_desc           8390\n",
       "activity_class                  12123\n",
       "true_cause                      10854\n",
       "permit_detail_desc               1078\n",
       "fire_start_date                 19299\n",
       "det_agent_type                  19843\n",
       "det_agent                       19843\n",
       "discovered_date                 17179\n",
       "reported_date                   19843\n",
       "start_for_fire_date             19844\n",
       "fire_fighting_start_date        14565\n",
       "fire_fighting_start_size        14565\n",
       "initial_action_by               19844\n",
       "fire_type                       17591\n",
       "fire_position_on_slope          17500\n",
       "weather_conditions_over_fire    17495\n",
       "fuel_type                       13804\n",
       "other_fuel_type                  3769\n",
       "bh_fs_date                      19844\n",
       "bh_hectares                     19844\n",
       "uc_fs_date                      19844\n",
       "uc_hectares                     19844\n",
       "to_fs_date                       2134\n",
       "to_hectares                      2134\n",
       "ex_fs_date                      19844\n",
       "ex_hectares                     19844\n",
       "dtype: int64"
      ]
     },
     "execution_count": 38,
     "metadata": {},
     "output_type": "execute_result"
    }
   ],
   "source": [
    "csv_input.count()"
   ]
  },
  {
   "cell_type": "code",
   "execution_count": 37,
   "id": "1c294c92-81b6-4e71-be64-1687bb957bf8",
   "metadata": {},
   "outputs": [
    {
     "ename": "TypeError",
     "evalue": "ufunc 'isnat' is only defined for datetime and timedelta.",
     "output_type": "error",
     "traceback": [
      "\u001b[1;31m---------------------------------------------------------------------------\u001b[0m",
      "\u001b[1;31mTypeError\u001b[0m                                 Traceback (most recent call last)",
      "Input \u001b[1;32mIn [37]\u001b[0m, in \u001b[0;36m<cell line: 1>\u001b[1;34m()\u001b[0m\n\u001b[1;32m----> 1\u001b[0m \u001b[43mnp\u001b[49m\u001b[38;5;241;43m.\u001b[39;49m\u001b[43misnat\u001b[49m\u001b[43m(\u001b[49m\u001b[43mcsv_input\u001b[49m\u001b[38;5;241;43m.\u001b[39;49m\u001b[43mfire_start_date\u001b[49m\u001b[43m)\u001b[49m\n",
      "File \u001b[1;32m~\\anaconda3\\lib\\site-packages\\pandas\\core\\generic.py:2101\u001b[0m, in \u001b[0;36mNDFrame.__array_ufunc__\u001b[1;34m(self, ufunc, method, *inputs, **kwargs)\u001b[0m\n\u001b[0;32m   2097\u001b[0m \u001b[38;5;129m@final\u001b[39m\n\u001b[0;32m   2098\u001b[0m \u001b[38;5;28;01mdef\u001b[39;00m \u001b[38;5;21m__array_ufunc__\u001b[39m(\n\u001b[0;32m   2099\u001b[0m     \u001b[38;5;28mself\u001b[39m, ufunc: np\u001b[38;5;241m.\u001b[39mufunc, method: \u001b[38;5;28mstr\u001b[39m, \u001b[38;5;241m*\u001b[39minputs: Any, \u001b[38;5;241m*\u001b[39m\u001b[38;5;241m*\u001b[39mkwargs: Any\n\u001b[0;32m   2100\u001b[0m ):\n\u001b[1;32m-> 2101\u001b[0m     \u001b[38;5;28;01mreturn\u001b[39;00m arraylike\u001b[38;5;241m.\u001b[39marray_ufunc(\u001b[38;5;28mself\u001b[39m, ufunc, method, \u001b[38;5;241m*\u001b[39minputs, \u001b[38;5;241m*\u001b[39m\u001b[38;5;241m*\u001b[39mkwargs)\n",
      "File \u001b[1;32m~\\anaconda3\\lib\\site-packages\\pandas\\core\\arraylike.py:397\u001b[0m, in \u001b[0;36marray_ufunc\u001b[1;34m(self, ufunc, method, *inputs, **kwargs)\u001b[0m\n\u001b[0;32m    394\u001b[0m \u001b[38;5;28;01melif\u001b[39;00m \u001b[38;5;28mself\u001b[39m\u001b[38;5;241m.\u001b[39mndim \u001b[38;5;241m==\u001b[39m \u001b[38;5;241m1\u001b[39m:\n\u001b[0;32m    395\u001b[0m     \u001b[38;5;66;03m# ufunc(series, ...)\u001b[39;00m\n\u001b[0;32m    396\u001b[0m     inputs \u001b[38;5;241m=\u001b[39m \u001b[38;5;28mtuple\u001b[39m(extract_array(x, extract_numpy\u001b[38;5;241m=\u001b[39m\u001b[38;5;28;01mTrue\u001b[39;00m) \u001b[38;5;28;01mfor\u001b[39;00m x \u001b[38;5;129;01min\u001b[39;00m inputs)\n\u001b[1;32m--> 397\u001b[0m     result \u001b[38;5;241m=\u001b[39m \u001b[38;5;28mgetattr\u001b[39m(ufunc, method)(\u001b[38;5;241m*\u001b[39minputs, \u001b[38;5;241m*\u001b[39m\u001b[38;5;241m*\u001b[39mkwargs)\n\u001b[0;32m    398\u001b[0m \u001b[38;5;28;01melse\u001b[39;00m:\n\u001b[0;32m    399\u001b[0m     \u001b[38;5;66;03m# ufunc(dataframe)\u001b[39;00m\n\u001b[0;32m    400\u001b[0m     \u001b[38;5;28;01mif\u001b[39;00m method \u001b[38;5;241m==\u001b[39m \u001b[38;5;124m\"\u001b[39m\u001b[38;5;124m__call__\u001b[39m\u001b[38;5;124m\"\u001b[39m \u001b[38;5;129;01mand\u001b[39;00m \u001b[38;5;129;01mnot\u001b[39;00m kwargs:\n\u001b[0;32m    401\u001b[0m         \u001b[38;5;66;03m# for np.<ufunc>(..) calls\u001b[39;00m\n\u001b[0;32m    402\u001b[0m         \u001b[38;5;66;03m# kwargs cannot necessarily be handled block-by-block, so only\u001b[39;00m\n\u001b[0;32m    403\u001b[0m         \u001b[38;5;66;03m# take this path if there are no kwargs\u001b[39;00m\n",
      "\u001b[1;31mTypeError\u001b[0m: ufunc 'isnat' is only defined for datetime and timedelta."
     ]
    }
   ],
   "source": [
    "np.isnat(csv_input.fire_start_date)"
   ]
  },
  {
   "cell_type": "code",
   "execution_count": 30,
   "id": "3ca0c09b-6455-4271-9871-5e630429d49f",
   "metadata": {},
   "outputs": [
    {
     "data": {
      "text/plain": [
       "fire_number                                  WWF054\n",
       "fire_name                                       NaN\n",
       "fire_year                                      2018\n",
       "calendar_year                                  2018\n",
       "assessment_datetime                      2018-10-23\n",
       "assessment_hectares                            0.01\n",
       "current_size                                   0.01\n",
       "size_class                                        A\n",
       "fire_location_latitude                      54.0231\n",
       "fire_location_longitude                 -115.669533\n",
       "fire_origin                            Private Land\n",
       "general_cause_desc                         Resident\n",
       "industry_identifier_desc                        NaN\n",
       "responsible_group_desc                          NaN\n",
       "activity_class                  Cooking and Warming\n",
       "true_cause                              Unsafe Fire\n",
       "permit_detail_desc                              NaN\n",
       "fire_start_date                                 NaT\n",
       "det_agent_type                                  UNP\n",
       "det_agent                                       LFS\n",
       "discovered_date                    2018-10-23 15:15\n",
       "reported_date                      2018-10-23 15:15\n",
       "start_for_fire_date                2018-10-23 15:15\n",
       "fire_fighting_start_date           2018-10-23 15:45\n",
       "fire_fighting_start_size                       0.01\n",
       "initial_action_by                         FPD Staff\n",
       "fire_type                                   Surface\n",
       "fire_position_on_slope                         Flat\n",
       "weather_conditions_over_fire                  Clear\n",
       "fuel_type                                       NaN\n",
       "other_fuel_type                  Abandoned Campfire\n",
       "bh_fs_date                         2018-10-23 15:45\n",
       "bh_hectares                                    0.01\n",
       "uc_fs_date                         2018-10-23 15:45\n",
       "uc_hectares                                    0.01\n",
       "to_fs_date                                      NaN\n",
       "to_hectares                                     NaN\n",
       "ex_fs_date                         2018-10-23 16:00\n",
       "ex_hectares                                    0.01\n",
       "Name: 19842, dtype: object"
      ]
     },
     "execution_count": 30,
     "metadata": {},
     "output_type": "execute_result"
    }
   ],
   "source": [
    "csv_input.iloc[19842]"
   ]
  },
  {
   "cell_type": "code",
   "execution_count": 11,
   "id": "6e09664b-c903-40f5-9dad-0f323957371d",
   "metadata": {},
   "outputs": [
    {
     "data": {
      "text/plain": [
       "7061"
      ]
     },
     "execution_count": 11,
     "metadata": {},
     "output_type": "execute_result"
    }
   ],
   "source": [
    "np.count_nonzero(csv_input.general_cause_desc == \"Lightning\")"
   ]
  },
  {
   "cell_type": "code",
   "execution_count": 12,
   "id": "cbf56d14-6134-4143-ae89-91b8b96d27c1",
   "metadata": {},
   "outputs": [
    {
     "data": {
      "text/plain": [
       "3518"
      ]
     },
     "execution_count": 12,
     "metadata": {},
     "output_type": "execute_result"
    }
   ],
   "source": [
    "np.count_nonzero(csv_input.general_cause_desc == \"Resident\")"
   ]
  },
  {
   "cell_type": "code",
   "execution_count": 13,
   "id": "93cb441f-b480-4c5f-a08e-282683e41715",
   "metadata": {},
   "outputs": [
    {
     "data": {
      "text/plain": [
       "4598"
      ]
     },
     "execution_count": 13,
     "metadata": {},
     "output_type": "execute_result"
    }
   ],
   "source": [
    "np.count_nonzero(csv_input.general_cause_desc == \"Recreation\")"
   ]
  },
  {
   "cell_type": "code",
   "execution_count": 14,
   "id": "5c0e8e78-a549-49a3-8be0-83b85c09e986",
   "metadata": {},
   "outputs": [
    {
     "data": {
      "text/plain": [
       "1598"
      ]
     },
     "execution_count": 14,
     "metadata": {},
     "output_type": "execute_result"
    }
   ],
   "source": [
    "np.count_nonzero(csv_input.general_cause_desc == \"Incendiary\")"
   ]
  },
  {
   "cell_type": "code",
   "execution_count": 15,
   "id": "7f475474-ec0b-4356-bebf-6f1d3c3c30ee",
   "metadata": {},
   "outputs": [
    {
     "data": {
      "text/plain": [
       "362"
      ]
     },
     "execution_count": 15,
     "metadata": {},
     "output_type": "execute_result"
    }
   ],
   "source": [
    "np.count_nonzero(csv_input.general_cause_desc == \"Oil & Gas Industry\")"
   ]
  },
  {
   "cell_type": "code",
   "execution_count": 16,
   "id": "9e70fba1-d705-42dd-a51b-6ee115212f9f",
   "metadata": {},
   "outputs": [
    {
     "data": {
      "text/plain": [
       "924"
      ]
     },
     "execution_count": 16,
     "metadata": {},
     "output_type": "execute_result"
    }
   ],
   "source": [
    "np.count_nonzero(csv_input.general_cause_desc == \"Power Line Industry\")\n"
   ]
  },
  {
   "cell_type": "code",
   "execution_count": 48,
   "id": "e173fb42-3e20-4c34-8ea6-c06b19c0864b",
   "metadata": {},
   "outputs": [],
   "source": []
  },
  {
   "cell_type": "code",
   "execution_count": 57,
   "id": "fe075ee6-040f-4f46-9f55-1dd57670f7fd",
   "metadata": {},
   "outputs": [
    {
     "name": "stdout",
     "output_type": "stream",
     "text": [
      "                    date   latitude   longitude\n",
      "0    2006-04-02 14:25:00  51.152933 -115.034600\n",
      "1    2006-04-03 15:30:00  51.157633 -115.002133\n",
      "2    2006-04-08 19:00:00  51.194400 -114.516167\n",
      "3    2006-04-13 17:33:00  51.125617 -114.841683\n",
      "4    2006-04-14 15:17:00  50.409833 -114.478967\n",
      "...                  ...        ...         ...\n",
      "1949 2006-09-01 12:00:00  54.697817 -116.218083\n",
      "1950 2006-10-04 15:58:00  54.068434 -115.668980\n",
      "1951 2006-10-05 14:45:00  54.651933 -115.460117\n",
      "1952 2006-10-25 17:30:00  54.619465 -115.516485\n",
      "1953 2006-12-18 20:15:00  54.492152 -115.352502\n",
      "\n",
      "[1954 rows x 3 columns]\n",
      "date         datetime64[ns]\n",
      "latitude            float64\n",
      "longitude           float64\n",
      "dtype: object\n"
     ]
    }
   ],
   "source": []
  },
  {
   "cell_type": "code",
   "execution_count": 58,
   "id": "3fe6f4e6-a52b-41de-8602-f2ce4845f8cc",
   "metadata": {},
   "outputs": [
    {
     "name": "stdout",
     "output_type": "stream",
     "text": [
      "                 date   latitude   longitude\n",
      "0 2006-04-02 14:25:00  51.152933 -115.034600\n",
      "1 2006-04-03 15:30:00  51.157633 -115.002133\n",
      "2 2006-04-08 19:00:00  51.194400 -114.516167\n",
      "3 2006-04-13 17:33:00  51.125617 -114.841683\n",
      "4 2006-04-14 15:17:00  50.409833 -114.478967\n"
     ]
    }
   ],
   "source": []
  },
  {
   "cell_type": "code",
   "execution_count": 44,
   "id": "9c801765-04d2-458f-b50d-21ea696295ad",
   "metadata": {},
   "outputs": [
    {
     "name": "stdout",
     "output_type": "stream",
     "text": [
      "(1954, 3)\n"
     ]
    },
    {
     "data": {
      "text/html": [
       "<div>\n",
       "<style scoped>\n",
       "    .dataframe tbody tr th:only-of-type {\n",
       "        vertical-align: middle;\n",
       "    }\n",
       "\n",
       "    .dataframe tbody tr th {\n",
       "        vertical-align: top;\n",
       "    }\n",
       "\n",
       "    .dataframe thead th {\n",
       "        text-align: right;\n",
       "    }\n",
       "</style>\n",
       "<table border=\"1\" class=\"dataframe\">\n",
       "  <thead>\n",
       "    <tr style=\"text-align: right;\">\n",
       "      <th></th>\n",
       "      <th>date</th>\n",
       "      <th>latitude</th>\n",
       "      <th>longitude</th>\n",
       "    </tr>\n",
       "  </thead>\n",
       "  <tbody>\n",
       "    <tr>\n",
       "      <th>0</th>\n",
       "      <td>2006-04-02</td>\n",
       "      <td>51.152933</td>\n",
       "      <td>-115.034600</td>\n",
       "    </tr>\n",
       "    <tr>\n",
       "      <th>1</th>\n",
       "      <td>2006-04-03</td>\n",
       "      <td>51.157633</td>\n",
       "      <td>-115.002133</td>\n",
       "    </tr>\n",
       "    <tr>\n",
       "      <th>2</th>\n",
       "      <td>2006-04-08</td>\n",
       "      <td>51.194400</td>\n",
       "      <td>-114.516167</td>\n",
       "    </tr>\n",
       "    <tr>\n",
       "      <th>3</th>\n",
       "      <td>2006-04-13</td>\n",
       "      <td>51.125617</td>\n",
       "      <td>-114.841683</td>\n",
       "    </tr>\n",
       "    <tr>\n",
       "      <th>4</th>\n",
       "      <td>2006-04-14</td>\n",
       "      <td>50.409833</td>\n",
       "      <td>-114.478967</td>\n",
       "    </tr>\n",
       "    <tr>\n",
       "      <th>...</th>\n",
       "      <td>...</td>\n",
       "      <td>...</td>\n",
       "      <td>...</td>\n",
       "    </tr>\n",
       "    <tr>\n",
       "      <th>1949</th>\n",
       "      <td>2006-09-01</td>\n",
       "      <td>54.697817</td>\n",
       "      <td>-116.218083</td>\n",
       "    </tr>\n",
       "    <tr>\n",
       "      <th>1950</th>\n",
       "      <td>2006-10-04</td>\n",
       "      <td>54.068434</td>\n",
       "      <td>-115.668980</td>\n",
       "    </tr>\n",
       "    <tr>\n",
       "      <th>1951</th>\n",
       "      <td>2006-10-05</td>\n",
       "      <td>54.651933</td>\n",
       "      <td>-115.460117</td>\n",
       "    </tr>\n",
       "    <tr>\n",
       "      <th>1952</th>\n",
       "      <td>2006-10-25</td>\n",
       "      <td>54.619465</td>\n",
       "      <td>-115.516485</td>\n",
       "    </tr>\n",
       "    <tr>\n",
       "      <th>1953</th>\n",
       "      <td>2006-12-18</td>\n",
       "      <td>54.492152</td>\n",
       "      <td>-115.352502</td>\n",
       "    </tr>\n",
       "  </tbody>\n",
       "</table>\n",
       "<p>1954 rows × 3 columns</p>\n",
       "</div>"
      ],
      "text/plain": [
       "            date   latitude   longitude\n",
       "0     2006-04-02  51.152933 -115.034600\n",
       "1     2006-04-03  51.157633 -115.002133\n",
       "2     2006-04-08  51.194400 -114.516167\n",
       "3     2006-04-13  51.125617 -114.841683\n",
       "4     2006-04-14  50.409833 -114.478967\n",
       "...          ...        ...         ...\n",
       "1949  2006-09-01  54.697817 -116.218083\n",
       "1950  2006-10-04  54.068434 -115.668980\n",
       "1951  2006-10-05  54.651933 -115.460117\n",
       "1952  2006-10-25  54.619465 -115.516485\n",
       "1953  2006-12-18  54.492152 -115.352502\n",
       "\n",
       "[1954 rows x 3 columns]"
      ]
     },
     "execution_count": 44,
     "metadata": {},
     "output_type": "execute_result"
    }
   ],
   "source": [
    "fires_csv = pd.read_csv('fires_'+str(year)+'.csv', encoding= 'unicode_escape')\n",
    "print(fires_csv.shape)\n",
    "fires_csv"
   ]
  },
  {
   "cell_type": "markdown",
   "id": "b0c39f03-4b28-49e8-829c-45bec9316fca",
   "metadata": {},
   "source": [
    "## GRID PROCESSING\n",
    "Do the QGIS processing before this step."
   ]
  }
 ],
 "metadata": {
  "kernelspec": {
   "display_name": "Python 3 (ipykernel)",
   "language": "python",
   "name": "python3"
  },
  "language_info": {
   "codemirror_mode": {
    "name": "ipython",
    "version": 3
   },
   "file_extension": ".py",
   "mimetype": "text/x-python",
   "name": "python",
   "nbconvert_exporter": "python",
   "pygments_lexer": "ipython3",
   "version": "3.9.12"
  }
 },
 "nbformat": 4,
 "nbformat_minor": 5
}
