{
 "cells": [
  {
   "cell_type": "code",
   "execution_count": 1,
   "id": "195f6e0a-d5a4-458e-948e-6614699127d4",
   "metadata": {},
   "outputs": [],
   "source": [
    "import pandas as pd\n",
    "import numpy as np\n",
    "import datetime\n",
    "from datetime import timedelta, date"
   ]
  },
  {
   "cell_type": "markdown",
   "id": "74ca32cd-071a-4acc-bf61-5ed525125668",
   "metadata": {},
   "source": [
    "For each year, upload all the bands"
   ]
  },
  {
   "cell_type": "code",
   "execution_count": 2,
   "id": "dd403690-3934-4224-be7a-bba8a1df5c51",
   "metadata": {},
   "outputs": [],
   "source": [
    "year = 2018"
   ]
  },
  {
   "cell_type": "markdown",
   "id": "28d1ae3b-fe6c-46b0-b7d9-b8c23f07ab18",
   "metadata": {},
   "source": [
    "Read all the bands"
   ]
  },
  {
   "cell_type": "code",
   "execution_count": 55,
   "id": "07c11e70-0553-4409-a3c8-339844a7de4c",
   "metadata": {},
   "outputs": [],
   "source": [
    "in_bands = []\n",
    "total_weeks = 26\n",
    "\n",
    "for i in range(1, total_weeks+1):\n",
    "    csv_input = pd.read_csv(\"ndvi_2018_zonal_band_grid\"+str(i)+\".csv\", encoding= 'unicode_escape')\n",
    "    csv_input.rename(columns={\"id\": \"Grid_id\", \"_mean\":\"NDVI\"}, inplace=True)\n",
    "    csv_input['band'] = i\n",
    "    in_bands.append(csv_input)\n",
    "\n",
    "    "
   ]
  },
  {
   "cell_type": "markdown",
   "id": "ced2f69c-a409-4c15-9532-f4fb797bff34",
   "metadata": {},
   "source": [
    "Display bands"
   ]
  },
  {
   "cell_type": "code",
   "execution_count": 56,
   "id": "a81d4438-8c71-44ee-b8fc-f1cda4fd640a",
   "metadata": {},
   "outputs": [
    {
     "data": {
      "text/plain": [
       "26"
      ]
     },
     "execution_count": 56,
     "metadata": {},
     "output_type": "execute_result"
    }
   ],
   "source": [
    "len(in_bands)"
   ]
  },
  {
   "cell_type": "code",
   "execution_count": 4,
   "id": "6e4160d2-3d3d-40c0-85dd-271afc47ecec",
   "metadata": {},
   "outputs": [
    {
     "name": "stdout",
     "output_type": "stream",
     "text": [
      "2018-04-05 00:00:00\n"
     ]
    }
   ],
   "source": [
    "month = 4\n",
    "day = 6\n",
    "date =  datetime.datetime(year, month, day-1)\n",
    "\n",
    "print(date)"
   ]
  },
  {
   "cell_type": "code",
   "execution_count": 58,
   "id": "60c6feb0-b523-411c-a137-115b5e0d4de0",
   "metadata": {},
   "outputs": [],
   "source": [
    "month = 4\n",
    "day = 6\n",
    "date =  datetime.datetime(year, month, day-1)\n",
    "temp = []\n",
    "for i in range(1, total_weeks+1):\n",
    "    for j in range(7):\n",
    "        copy = in_bands[i-1].copy(deep = False)\n",
    "        date =  (date+ timedelta(days=1))\n",
    "        copy['date'] = date\n",
    "        temp.append(copy)\n"
   ]
  },
  {
   "cell_type": "code",
   "execution_count": 66,
   "id": "28818a48-548d-466f-b30f-d70c6e241af9",
   "metadata": {},
   "outputs": [],
   "source": [
    "month = 3\n",
    "day = 31\n",
    "date =  datetime.datetime(year, month, day)\n",
    "april_1_5 = []\n",
    "for i in range(5):\n",
    "    copy = in_bands[0].copy(deep = False)\n",
    "    date =  (date+ timedelta(days=1))\n",
    "    copy['date'] = date\n",
    "    april_1_5.append(copy)"
   ]
  },
  {
   "cell_type": "code",
   "execution_count": 69,
   "id": "770d4e46-d4fb-418e-ae63-0a8babc3d683",
   "metadata": {},
   "outputs": [],
   "source": [
    "month = 10\n",
    "day = 4\n",
    "date =  datetime.datetime(year, month, day)\n",
    "oct_5_31 = []\n",
    "for i in range(27):\n",
    "    copy = in_bands[25].copy(deep = False)\n",
    "    date =  (date+ timedelta(days=1))\n",
    "    copy['date'] = date\n",
    "    oct_5_31.append(copy)"
   ]
  },
  {
   "cell_type": "code",
   "execution_count": 81,
   "id": "280f091c-a73f-43c0-be0a-bec259cb7034",
   "metadata": {},
   "outputs": [],
   "source": [
    "april_start = pd.concat(april_1_5, axis = 0, ignore_index = True)"
   ]
  },
  {
   "cell_type": "code",
   "execution_count": 82,
   "id": "89283889-39c8-4d14-9bfa-faa0d2bf6ae2",
   "metadata": {},
   "outputs": [],
   "source": [
    "april_oct = pd.concat(temp, axis=0, ignore_index=True)"
   ]
  },
  {
   "cell_type": "code",
   "execution_count": 83,
   "id": "92130900-2443-4493-866a-76202cd4702e",
   "metadata": {},
   "outputs": [],
   "source": [
    "oct_end = pd.concat(oct_5_31, axis = 0, ignore_index = True)"
   ]
  },
  {
   "cell_type": "code",
   "execution_count": 84,
   "id": "3d88e289-583c-4ed0-beb2-dc0b7b703512",
   "metadata": {},
   "outputs": [],
   "source": [
    "output= pd.concat([top, all_bands, bottom], axis=0, ignore_index=True)"
   ]
  },
  {
   "cell_type": "code",
   "execution_count": 89,
   "id": "893cf998-ebb8-4162-ab3c-fb30cd576077",
   "metadata": {},
   "outputs": [
    {
     "data": {
      "text/html": [
       "<div>\n",
       "<style scoped>\n",
       "    .dataframe tbody tr th:only-of-type {\n",
       "        vertical-align: middle;\n",
       "    }\n",
       "\n",
       "    .dataframe tbody tr th {\n",
       "        vertical-align: top;\n",
       "    }\n",
       "\n",
       "    .dataframe thead th {\n",
       "        text-align: right;\n",
       "    }\n",
       "</style>\n",
       "<table border=\"1\" class=\"dataframe\">\n",
       "  <thead>\n",
       "    <tr style=\"text-align: right;\">\n",
       "      <th></th>\n",
       "      <th>Grid_id</th>\n",
       "      <th>NDVI</th>\n",
       "      <th>date</th>\n",
       "    </tr>\n",
       "  </thead>\n",
       "  <tbody>\n",
       "    <tr>\n",
       "      <th>0</th>\n",
       "      <td>682187</td>\n",
       "      <td>10031.230796</td>\n",
       "      <td>2018-04-01</td>\n",
       "    </tr>\n",
       "    <tr>\n",
       "      <th>1</th>\n",
       "      <td>682188</td>\n",
       "      <td>10107.878808</td>\n",
       "      <td>2018-04-01</td>\n",
       "    </tr>\n",
       "    <tr>\n",
       "      <th>2</th>\n",
       "      <td>682189</td>\n",
       "      <td>10128.845456</td>\n",
       "      <td>2018-04-01</td>\n",
       "    </tr>\n",
       "    <tr>\n",
       "      <th>3</th>\n",
       "      <td>682190</td>\n",
       "      <td>10100.401407</td>\n",
       "      <td>2018-04-01</td>\n",
       "    </tr>\n",
       "    <tr>\n",
       "      <th>4</th>\n",
       "      <td>682191</td>\n",
       "      <td>10077.864084</td>\n",
       "      <td>2018-04-01</td>\n",
       "    </tr>\n",
       "    <tr>\n",
       "      <th>...</th>\n",
       "      <td>...</td>\n",
       "      <td>...</td>\n",
       "      <td>...</td>\n",
       "    </tr>\n",
       "    <tr>\n",
       "      <th>142283031</th>\n",
       "      <td>21462</td>\n",
       "      <td>12776.712569</td>\n",
       "      <td>2018-10-31</td>\n",
       "    </tr>\n",
       "    <tr>\n",
       "      <th>142283032</th>\n",
       "      <td>21463</td>\n",
       "      <td>12844.780542</td>\n",
       "      <td>2018-10-31</td>\n",
       "    </tr>\n",
       "    <tr>\n",
       "      <th>142283033</th>\n",
       "      <td>21464</td>\n",
       "      <td>12901.070804</td>\n",
       "      <td>2018-10-31</td>\n",
       "    </tr>\n",
       "    <tr>\n",
       "      <th>142283034</th>\n",
       "      <td>21465</td>\n",
       "      <td>12344.887176</td>\n",
       "      <td>2018-10-31</td>\n",
       "    </tr>\n",
       "    <tr>\n",
       "      <th>142283035</th>\n",
       "      <td>21466</td>\n",
       "      <td>12276.415099</td>\n",
       "      <td>2018-10-31</td>\n",
       "    </tr>\n",
       "  </tbody>\n",
       "</table>\n",
       "<p>142283036 rows × 3 columns</p>\n",
       "</div>"
      ],
      "text/plain": [
       "           Grid_id          NDVI       date\n",
       "0           682187  10031.230796 2018-04-01\n",
       "1           682188  10107.878808 2018-04-01\n",
       "2           682189  10128.845456 2018-04-01\n",
       "3           682190  10100.401407 2018-04-01\n",
       "4           682191  10077.864084 2018-04-01\n",
       "...            ...           ...        ...\n",
       "142283031    21462  12776.712569 2018-10-31\n",
       "142283032    21463  12844.780542 2018-10-31\n",
       "142283033    21464  12901.070804 2018-10-31\n",
       "142283034    21465  12344.887176 2018-10-31\n",
       "142283035    21466  12276.415099 2018-10-31\n",
       "\n",
       "[142283036 rows x 3 columns]"
      ]
     },
     "execution_count": 89,
     "metadata": {},
     "output_type": "execute_result"
    }
   ],
   "source": [
    "output"
   ]
  },
  {
   "cell_type": "code",
   "execution_count": 88,
   "id": "5120a7af-7ee6-4519-87f3-feea7c1d4b60",
   "metadata": {},
   "outputs": [],
   "source": [
    "output.drop('band', inplace=True, axis=1)"
   ]
  },
  {
   "cell_type": "code",
   "execution_count": 90,
   "id": "90fa01f0-2059-40a8-9a25-fec46010463f",
   "metadata": {},
   "outputs": [],
   "source": [
    "output.to_csv('NDVI_2018.csv', index=False)"
   ]
  },
  {
   "cell_type": "code",
   "execution_count": 91,
   "id": "77430538-0d17-45d6-bbb2-c07e04112eeb",
   "metadata": {},
   "outputs": [],
   "source": [
    "ndvi_2018_input = pd.read_csv(\"NDVI_2018.csv\", encoding= 'unicode_escape')"
   ]
  },
  {
   "cell_type": "code",
   "execution_count": 92,
   "id": "1b0a10a4-29bf-43b7-b9fb-4697c2f52dc2",
   "metadata": {},
   "outputs": [
    {
     "data": {
      "text/html": [
       "<div>\n",
       "<style scoped>\n",
       "    .dataframe tbody tr th:only-of-type {\n",
       "        vertical-align: middle;\n",
       "    }\n",
       "\n",
       "    .dataframe tbody tr th {\n",
       "        vertical-align: top;\n",
       "    }\n",
       "\n",
       "    .dataframe thead th {\n",
       "        text-align: right;\n",
       "    }\n",
       "</style>\n",
       "<table border=\"1\" class=\"dataframe\">\n",
       "  <thead>\n",
       "    <tr style=\"text-align: right;\">\n",
       "      <th></th>\n",
       "      <th>Grid_id</th>\n",
       "      <th>NDVI</th>\n",
       "      <th>date</th>\n",
       "    </tr>\n",
       "  </thead>\n",
       "  <tbody>\n",
       "    <tr>\n",
       "      <th>0</th>\n",
       "      <td>682187</td>\n",
       "      <td>10031.230796</td>\n",
       "      <td>2018-04-01</td>\n",
       "    </tr>\n",
       "    <tr>\n",
       "      <th>1</th>\n",
       "      <td>682188</td>\n",
       "      <td>10107.878808</td>\n",
       "      <td>2018-04-01</td>\n",
       "    </tr>\n",
       "    <tr>\n",
       "      <th>2</th>\n",
       "      <td>682189</td>\n",
       "      <td>10128.845456</td>\n",
       "      <td>2018-04-01</td>\n",
       "    </tr>\n",
       "    <tr>\n",
       "      <th>3</th>\n",
       "      <td>682190</td>\n",
       "      <td>10100.401407</td>\n",
       "      <td>2018-04-01</td>\n",
       "    </tr>\n",
       "    <tr>\n",
       "      <th>4</th>\n",
       "      <td>682191</td>\n",
       "      <td>10077.864084</td>\n",
       "      <td>2018-04-01</td>\n",
       "    </tr>\n",
       "    <tr>\n",
       "      <th>...</th>\n",
       "      <td>...</td>\n",
       "      <td>...</td>\n",
       "      <td>...</td>\n",
       "    </tr>\n",
       "    <tr>\n",
       "      <th>142283031</th>\n",
       "      <td>21462</td>\n",
       "      <td>12776.712569</td>\n",
       "      <td>2018-10-31</td>\n",
       "    </tr>\n",
       "    <tr>\n",
       "      <th>142283032</th>\n",
       "      <td>21463</td>\n",
       "      <td>12844.780542</td>\n",
       "      <td>2018-10-31</td>\n",
       "    </tr>\n",
       "    <tr>\n",
       "      <th>142283033</th>\n",
       "      <td>21464</td>\n",
       "      <td>12901.070804</td>\n",
       "      <td>2018-10-31</td>\n",
       "    </tr>\n",
       "    <tr>\n",
       "      <th>142283034</th>\n",
       "      <td>21465</td>\n",
       "      <td>12344.887176</td>\n",
       "      <td>2018-10-31</td>\n",
       "    </tr>\n",
       "    <tr>\n",
       "      <th>142283035</th>\n",
       "      <td>21466</td>\n",
       "      <td>12276.415099</td>\n",
       "      <td>2018-10-31</td>\n",
       "    </tr>\n",
       "  </tbody>\n",
       "</table>\n",
       "<p>142283036 rows × 3 columns</p>\n",
       "</div>"
      ],
      "text/plain": [
       "           Grid_id          NDVI        date\n",
       "0           682187  10031.230796  2018-04-01\n",
       "1           682188  10107.878808  2018-04-01\n",
       "2           682189  10128.845456  2018-04-01\n",
       "3           682190  10100.401407  2018-04-01\n",
       "4           682191  10077.864084  2018-04-01\n",
       "...            ...           ...         ...\n",
       "142283031    21462  12776.712569  2018-10-31\n",
       "142283032    21463  12844.780542  2018-10-31\n",
       "142283033    21464  12901.070804  2018-10-31\n",
       "142283034    21465  12344.887176  2018-10-31\n",
       "142283035    21466  12276.415099  2018-10-31\n",
       "\n",
       "[142283036 rows x 3 columns]"
      ]
     },
     "execution_count": 92,
     "metadata": {},
     "output_type": "execute_result"
    }
   ],
   "source": [
    "ndvi_2018_input"
   ]
  }
 ],
 "metadata": {
  "kernelspec": {
   "display_name": "Python 3 (ipykernel)",
   "language": "python",
   "name": "python3"
  },
  "language_info": {
   "codemirror_mode": {
    "name": "ipython",
    "version": 3
   },
   "file_extension": ".py",
   "mimetype": "text/x-python",
   "name": "python",
   "nbconvert_exporter": "python",
   "pygments_lexer": "ipython3",
   "version": "3.9.12"
  }
 },
 "nbformat": 4,
 "nbformat_minor": 5
}
